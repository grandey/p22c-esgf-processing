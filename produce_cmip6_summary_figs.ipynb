{
 "cells": [
  {
   "cell_type": "markdown",
   "id": "4279cc9d",
   "metadata": {},
   "source": [
    "# produce_cmip6_summary_figs.ipynb\n",
    "Plot summary figures using data produced by process_cmip6_file.ipynb.\n",
    "\n",
    "B. S. Grandey, 2022"
   ]
  },
  {
   "cell_type": "code",
   "execution_count": 1,
   "id": "9baaf651",
   "metadata": {},
   "outputs": [
    {
     "name": "stdout",
     "output_type": "stream",
     "text": [
      "Thu Feb 10 19:15:51 +08 2022\r\n"
     ]
    }
   ],
   "source": [
    "! date"
   ]
  },
  {
   "cell_type": "code",
   "execution_count": 2,
   "id": "4e4a0ed0",
   "metadata": {},
   "outputs": [],
   "source": [
    "from cdo import Cdo, CDOException\n",
    "import matplotlib.pyplot as plt\n",
    "import pathlib\n",
    "import xarray as xr\n",
    "\n",
    "%matplotlib inline"
   ]
  },
  {
   "cell_type": "code",
   "execution_count": 3,
   "id": "b2fa348e",
   "metadata": {},
   "outputs": [
    {
     "name": "stdout",
     "output_type": "stream",
     "text": [
      "CDO version: 2.0.3\n",
      "cdo.py bindings version: 1.5.4\n",
      "xarray version: 0.21.0\n"
     ]
    }
   ],
   "source": [
    "cdo = Cdo(tempdir='temp')\n",
    "\n",
    "print(f'CDO version: {cdo.version()}')\n",
    "print(f'cdo.py bindings version: {cdo.__version__()}')\n",
    "\n",
    "print(f'xarray version: {xr.__version__}')"
   ]
  },
  {
   "cell_type": "code",
   "execution_count": 4,
   "id": "52133e91",
   "metadata": {},
   "outputs": [],
   "source": [
    "# Reduce resolution of inline images (to reduce size of this notebook)\n",
    "plt.rcParams['figure.dpi'] = 48.0"
   ]
  },
  {
   "cell_type": "code",
   "execution_count": 5,
   "id": "1fb920b9",
   "metadata": {},
   "outputs": [],
   "source": [
    "# Input base directory containing files produced by process_cmip6_file.ipynb\n",
    "in_base = pathlib.Path('~/Data/p22c/CMIP6/').expanduser()\n",
    "# Output base directory in which to save figures\n",
    "out_base = pathlib.Path('~/Data/p22c/CMIP6_figs/').expanduser()\n",
    "out_base.mkdir(exist_ok=True)"
   ]
  },
  {
   "cell_type": "markdown",
   "id": "26abaec8",
   "metadata": {},
   "source": [
    "## Function to produce timeseries of fldmeans for all source-member pairs (rows) and experiments (columns) of interest for a given variable\n",
    "These timeseries figures provide a quick summary of available data coverage, especially when all_source_member_pairs=True."
   ]
  },
  {
   "cell_type": "code",
   "execution_count": 6,
   "id": "3d4e165a",
   "metadata": {
    "scrolled": false
   },
   "outputs": [],
   "source": [
    "def fig_timeseries(variable='zostoga',\n",
    "                   in_group='regrid_yearmean',  # directory within in_base\n",
    "                   experiments=['piControl', 'historical', 'ssp126', 'ssp245', 'ssp370', 'ssp585'],\n",
    "                   all_source_member_pairs=True,  # include source-member paris that have data for any variable?\n",
    "                  ):\n",
    "    print(f'---- {in_group} {variable} ----')\n",
    "    # Output directory\n",
    "    out_dir = out_base.joinpath(in_group)\n",
    "    out_dir.mkdir(exist_ok=True)\n",
    "    # Identify available source-member pairs\n",
    "    if all_source_member_pairs:  # include source-member pairs that have data for any variable?\n",
    "        source_member_pairs = [d.name for d in in_base.glob(f'{in_group}/*/[!.]*_*')]\n",
    "        source_member_pairs = sorted(set(source_member_pairs))  # remove duplicates\n",
    "    else:  # or only include source-member pairs that have data for this specific variable?\n",
    "        source_member_pairs = sorted([d.name for d in in_base.glob(f'{in_group}/{variable}/[!.]*_*')])\n",
    "    # Configure subplots\n",
    "    nrows = len(source_member_pairs)\n",
    "    ncols = len(experiments)\n",
    "    fig, axs = plt.subplots(ncols=ncols, nrows=nrows,\n",
    "                            figsize=(ncols*3, nrows*3), constrained_layout=True)\n",
    "    fig.suptitle(variable, fontsize='xx-large')  # main title\n",
    "    # Loop over cols and rows\n",
    "    for c in range(ncols):\n",
    "        exp = experiments[c]\n",
    "        ncover = 0  # counter for number of experiments with data coverage for experiment    \n",
    "        for r in range(nrows):\n",
    "            source_member = source_member_pairs[r]\n",
    "            ax = axs[r,c]  # select axis\n",
    "            # Input data directory\n",
    "            in_dirs = sorted(in_base.glob(f'{in_group}/{variable}/{source_member}/*.{exp}.*'))\n",
    "            if len(in_dirs) == 0:\n",
    "                continue  # skip to next column\n",
    "            elif len(in_dirs) > 1:\n",
    "                print(f'Warning: {len(in_dirs)} possible input directories found for {source_member} {exp}')\n",
    "            in_dir = in_dirs[-1]\n",
    "            # Input files\n",
    "            in_fns = sorted([str(f) for f in in_dir.glob(f'*.nc')])\n",
    "            # Has at least one input file been found?\n",
    "            if len(in_fns) >= 1:\n",
    "                # Use CDO to merge files (if necessary), calculate fldmean, and use an absolute time axis\n",
    "                temp_fn = cdo.fldmean(input=f'-mergetime {\" \".join(in_fns)}',\n",
    "                                      options='-a -f nc', env={\"SKIP_SAME_TIME\": \"1\"})\n",
    "                # Read data using xarray\n",
    "                ds = xr.open_dataset(temp_fn)\n",
    "                # Lineplot\n",
    "                ax.plot(ds['time']/1e4, ds[variable][:,0,0])\n",
    "                # Increase counter\n",
    "                ncover += 1\n",
    "            # Label row\n",
    "            if c == 0:\n",
    "                axs[r,0].set_ylabel(f'{source_member}\\n{variable}', fontsize='x-large')\n",
    "        # Label column\n",
    "        axs[0,c].set_title(f'{exp} (n={ncover})', fontsize='x-large')\n",
    "    # Save\n",
    "    out_fn = out_dir.joinpath(f'timeseries_{variable}_{nrows}x{ncols}.pdf')\n",
    "    fig.savefig(out_fn)\n",
    "    print(f'Written {in_group}/{out_fn.name}')\n",
    "    return fig"
   ]
  },
  {
   "cell_type": "code",
   "execution_count": 7,
   "id": "5f399bff",
   "metadata": {
    "scrolled": false
   },
   "outputs": [
    {
     "name": "stdout",
     "output_type": "stream",
     "text": [
      "---- regrid_yearmean zostoga ----\n",
      "Written regrid_yearmean/timeseries_zostoga_51x6.pdf\n",
      "---- regrid_yearmean thetaoga ----\n",
      "Written regrid_yearmean/timeseries_thetaoga_51x6.pdf\n",
      "---- regrid_yearmean zos ----\n",
      "Written regrid_yearmean/timeseries_zos_51x6.pdf\n",
      "---- regrid_yearmean hfds ----\n",
      "Written regrid_yearmean/timeseries_hfds_51x6.pdf\n",
      "---- regrid_yearmean rlut ----\n",
      "Written regrid_yearmean/timeseries_rlut_51x6.pdf\n",
      "---- regrid_yearmean rsdt ----\n",
      "Written regrid_yearmean/timeseries_rsdt_51x6.pdf\n",
      "---- regrid_yearmean rsut ----\n",
      "Written regrid_yearmean/timeseries_rsut_51x6.pdf\n",
      "---- regrid_yearmean tas ----\n",
      "Written regrid_yearmean/timeseries_tas_51x6.pdf\n",
      "CPU times: user 2min 18s, sys: 1min 22s, total: 3min 40s\n",
      "Wall time: 16min 1s\n"
     ]
    }
   ],
   "source": [
    "%%time\n",
    "# Loop over variables of interest and plot timerseries\n",
    "for variable in ['zostoga', 'thetaoga',  # 1D ocean\n",
    "                 'zos', 'hfds',  # 2D ocean\n",
    "                 'rlut', 'rsdt', 'rsut', 'tas'  # 2D atmos\n",
    "                ]:\n",
    "    fig = fig_timeseries(variable=variable)\n",
    "    plt.close()   # don't show fig"
   ]
  },
  {
   "cell_type": "code",
   "execution_count": 8,
   "id": "feff390b",
   "metadata": {},
   "outputs": [
    {
     "name": "stdout",
     "output_type": "stream",
     "text": [
      "Thu Feb 10 19:31:54 +08 2022\r\n"
     ]
    }
   ],
   "source": [
    "! date"
   ]
  }
 ],
 "metadata": {
  "kernelspec": {
   "display_name": "Python 3 (ipykernel)",
   "language": "python",
   "name": "python3"
  },
  "language_info": {
   "codemirror_mode": {
    "name": "ipython",
    "version": 3
   },
   "file_extension": ".py",
   "mimetype": "text/x-python",
   "name": "python",
   "nbconvert_exporter": "python",
   "pygments_lexer": "ipython3",
   "version": "3.10.2"
  }
 },
 "nbformat": 4,
 "nbformat_minor": 5
}
